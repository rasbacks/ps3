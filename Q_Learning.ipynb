{
 "cells": [
  {
   "cell_type": "code",
   "execution_count": 1,
   "id": "6e7191c8",
   "metadata": {},
   "outputs": [],
   "source": [
    "import numpy as np\n",
    "import gymnasium as gym"
   ]
  },
  {
   "cell_type": "code",
   "execution_count": 2,
   "id": "016e6d2a",
   "metadata": {},
   "outputs": [],
   "source": [
    "slippery = False\n",
    "env = gym.make('FrozenLake-v1', map_name=\"4x4\", is_slippery=slippery, render_mode='human')\n",
    "env.reset()\n",
    "for i in range(10):\n",
    "    env.step(env.action_space.sample())\n",
    "env.close()"
   ]
  },
  {
   "cell_type": "code",
   "execution_count": 3,
   "id": "52738f88",
   "metadata": {},
   "outputs": [
    {
     "name": "stdout",
     "output_type": "stream",
     "text": [
      "Discrete(16)\n",
      "Discrete(4)\n"
     ]
    }
   ],
   "source": [
    "print(env.observation_space)\n",
    "print(env.action_space)\n",
    "\n",
    "n_states = env.observation_space.n\n",
    "n_actions = env.action_space.n"
   ]
  },
  {
   "cell_type": "markdown",
   "id": "f07970d2",
   "metadata": {},
   "source": [
    "0: Move left\n",
    "\n",
    "1: Move down\n",
    "\n",
    "2: Move right\n",
    "\n",
    "3: Move up"
   ]
  },
  {
   "cell_type": "code",
   "execution_count": 4,
   "id": "7b7a381d",
   "metadata": {},
   "outputs": [
    {
     "name": "stdout",
     "output_type": "stream",
     "text": [
      "[[0. 0. 0. 0.]\n",
      " [0. 0. 0. 0.]\n",
      " [0. 0. 0. 0.]\n",
      " [0. 0. 0. 0.]\n",
      " [0. 0. 0. 0.]\n",
      " [0. 0. 0. 0.]\n",
      " [0. 0. 0. 0.]\n",
      " [0. 0. 0. 0.]\n",
      " [0. 0. 0. 0.]\n",
      " [0. 0. 0. 0.]\n",
      " [0. 0. 0. 0.]\n",
      " [0. 0. 0. 0.]\n",
      " [0. 0. 0. 0.]\n",
      " [0. 0. 0. 0.]\n",
      " [0. 0. 0. 0.]\n",
      " [0. 0. 0. 0.]]\n",
      "episode  10 total reward 0.0 epsilon 0.9905473420617097\n",
      "[[0. 0. 0. 0.]\n",
      " [0. 0. 0. 0.]\n",
      " [0. 0. 0. 0.]\n",
      " [0. 0. 0. 0.]\n",
      " [0. 0. 0. 0.]\n",
      " [0. 0. 0. 0.]\n",
      " [0. 0. 0. 0.]\n",
      " [0. 0. 0. 0.]\n",
      " [0. 0. 0. 0.]\n",
      " [0. 0. 0. 0.]\n",
      " [0. 0. 0. 0.]\n",
      " [0. 0. 0. 0.]\n",
      " [0. 0. 0. 0.]\n",
      " [0. 0. 0. 0.]\n",
      " [0. 0. 0. 0.]\n",
      " [0. 0. 0. 0.]]\n",
      "episode  100 total reward 0.0 epsilon 0.9095955471341616\n",
      "[[0.  0.  0.  0. ]\n",
      " [0.  0.  0.  0. ]\n",
      " [0.  0.  0.  0. ]\n",
      " [0.  0.  0.  0. ]\n",
      " [0.  0.  0.  0. ]\n",
      " [0.  0.  0.  0. ]\n",
      " [0.  0.  0.  0. ]\n",
      " [0.  0.  0.  0. ]\n",
      " [0.  0.  0.  0. ]\n",
      " [0.  0.  0.  0. ]\n",
      " [0.  0.  0.  0. ]\n",
      " [0.  0.  0.  0. ]\n",
      " [0.  0.  0.  0. ]\n",
      " [0.  0.  0.  0. ]\n",
      " [0.  0.  0.1 0. ]\n",
      " [0.  0.  0.  0. ]]\n",
      "episode  500 total reward 0.0 epsilon 0.6262041267270018\n",
      "[[0.4   0.499 0.232 0.378]\n",
      " [0.318 0.    0.007 0.144]\n",
      " [0.036 0.001 0.    0.002]\n",
      " [0.    0.    0.    0.   ]\n",
      " [0.435 0.575 0.    0.365]\n",
      " [0.    0.    0.    0.   ]\n",
      " [0.    0.008 0.    0.   ]\n",
      " [0.    0.    0.    0.   ]\n",
      " [0.495 0.    0.667 0.402]\n",
      " [0.364 0.764 0.462 0.   ]\n",
      " [0.186 0.767 0.    0.001]\n",
      " [0.    0.    0.    0.   ]\n",
      " [0.    0.    0.    0.   ]\n",
      " [0.    0.557 0.877 0.481]\n",
      " [0.512 0.613 0.995 0.378]\n",
      " [0.    0.    0.    0.   ]]\n",
      "episode  1000 total reward 0.0 epsilon 0.39948546911287025\n",
      "[[0.531 0.59  0.478 0.531]\n",
      " [0.531 0.    0.127 0.408]\n",
      " [0.295 0.149 0.005 0.04 ]\n",
      " [0.05  0.    0.    0.   ]\n",
      " [0.59  0.656 0.    0.531]\n",
      " [0.    0.    0.    0.   ]\n",
      " [0.    0.652 0.    0.034]\n",
      " [0.    0.    0.    0.   ]\n",
      " [0.656 0.    0.729 0.59 ]\n",
      " [0.655 0.81  0.808 0.   ]\n",
      " [0.626 0.9   0.    0.319]\n",
      " [0.    0.    0.    0.   ]\n",
      " [0.    0.    0.    0.   ]\n",
      " [0.    0.805 0.9   0.726]\n",
      " [0.781 0.897 1.    0.791]\n",
      " [0.    0.    0.    0.   ]]\n",
      "episode  3000 total reward 1.0 epsilon 0.09729771494947073\n",
      "[[0.531 0.59  0.478 0.531]\n",
      " [0.531 0.    0.224 0.441]\n",
      " [0.381 0.2   0.009 0.04 ]\n",
      " [0.073 0.    0.005 0.   ]\n",
      " [0.59  0.656 0.    0.531]\n",
      " [0.    0.    0.    0.   ]\n",
      " [0.    0.742 0.    0.034]\n",
      " [0.    0.    0.    0.   ]\n",
      " [0.656 0.    0.729 0.59 ]\n",
      " [0.656 0.81  0.81  0.   ]\n",
      " [0.703 0.9   0.    0.481]\n",
      " [0.    0.    0.    0.   ]\n",
      " [0.    0.    0.    0.   ]\n",
      " [0.    0.81  0.9   0.729]\n",
      " [0.81  0.9   1.    0.81 ]\n",
      " [0.    0.    0.    0.   ]]\n",
      "episode  4999 total reward 1.0 epsilon 0.05640745390037226\n",
      "[[0.531 0.59  0.478 0.531]\n",
      " [0.531 0.    0.236 0.441]\n",
      " [0.39  0.2   0.009 0.04 ]\n",
      " [0.073 0.    0.005 0.   ]\n",
      " [0.59  0.656 0.    0.531]\n",
      " [0.    0.    0.    0.   ]\n",
      " [0.    0.742 0.    0.034]\n",
      " [0.    0.    0.    0.   ]\n",
      " [0.656 0.    0.729 0.59 ]\n",
      " [0.656 0.81  0.81  0.   ]\n",
      " [0.703 0.9   0.    0.481]\n",
      " [0.    0.    0.    0.   ]\n",
      " [0.    0.    0.    0.   ]\n",
      " [0.    0.81  0.9   0.729]\n",
      " [0.81  0.9   1.    0.81 ]\n",
      " [0.    0.    0.    0.   ]]\n"
     ]
    }
   ],
   "source": [
    "env = gym.make('FrozenLake-v1', map_name=\"4x4\", is_slippery=slippery)\n",
    "\n",
    "Q = np.zeros((n_states, n_actions))\n",
    "\n",
    "print(Q)\n",
    "num_episodes = 5000\n",
    "print_idx = [10, 100, 500, 1000, 3000, num_episodes-1]\n",
    "# \n",
    "epsilon = 1\n",
    "alpha = 0.1\n",
    "gamma = 0.9\n",
    "decay_rate = 0.001\n",
    "eps_max = 1\n",
    "eps_min = 0.05\n",
    "for i in range(num_episodes):\n",
    "    state, _ = env.reset()\n",
    "    done = False\n",
    "    total_reward = 0\n",
    "    while not done:\n",
    "        if np.random.rand() < epsilon:\n",
    "            action = env.action_space.sample()\n",
    "        else:\n",
    "            action = np.argmax(Q[state])\n",
    "\n",
    "        state_new, reward, terminated, truncated, _ = env.step(action)    \n",
    "        done = terminated or truncated\n",
    "        Q[state, action] = (1-alpha)*Q[state, action] + alpha*(reward + gamma*np.max(Q[state_new]))\n",
    "\n",
    "        state = state_new\n",
    "        total_reward += reward\n",
    "    epsilon = eps_min + (eps_max - eps_min)*np.exp(-decay_rate*i)\n",
    "    if i in print_idx:\n",
    "        print('episode ', i, 'total reward', total_reward, 'epsilon', epsilon)\n",
    "        print(np.round(Q,3))\n"
   ]
  },
  {
   "cell_type": "code",
   "execution_count": 5,
   "id": "3ac41396",
   "metadata": {},
   "outputs": [
    {
     "name": "stdout",
     "output_type": "stream",
     "text": [
      "episode  0 total reward 1.0\n",
      "episode  1 total reward 1.0\n",
      "episode  2 total reward 1.0\n"
     ]
    }
   ],
   "source": [
    "env = gym.make('FrozenLake-v1', map_name=\"4x4\", is_slippery=slippery, render_mode='human')\n",
    "\n",
    "num_episodes = 3\n",
    "\n",
    "for i in range(num_episodes):\n",
    "    state, _ = env.reset()\n",
    "    done = False\n",
    "    total_reward = 0\n",
    "    while not done:\n",
    "        action = np.argmax(Q[state])\n",
    "        state_new, reward, terminated, truncated, _ = env.step(action)    \n",
    "        done = terminated or truncated\n",
    "\n",
    "        state = state_new\n",
    "        total_reward += reward\n",
    "    print('episode ', i, 'total reward', total_reward)\n",
    "env.close()\n"
   ]
  },
  {
   "cell_type": "code",
   "execution_count": 6,
   "id": "1ac274a4",
   "metadata": {},
   "outputs": [
    {
     "name": "stdout",
     "output_type": "stream",
     "text": [
      "[0.531441  0.59049   0.4782969 0.531441 ]\n"
     ]
    }
   ],
   "source": [
    "def index_to_state(row, col):\n",
    "    return row*4 +col\n",
    "\n",
    "print(Q[index_to_state(0,0)])"
   ]
  }
 ],
 "metadata": {
  "kernelspec": {
   "display_name": "Python 3 (ipykernel)",
   "language": "python",
   "name": "python3"
  },
  "language_info": {
   "codemirror_mode": {
    "name": "ipython",
    "version": 3
   },
   "file_extension": ".py",
   "mimetype": "text/x-python",
   "name": "python",
   "nbconvert_exporter": "python",
   "pygments_lexer": "ipython3",
   "version": "3.10.12"
  }
 },
 "nbformat": 4,
 "nbformat_minor": 5
}
